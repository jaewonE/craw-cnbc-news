{
 "cells": [
  {
   "cell_type": "code",
   "execution_count": 5,
   "metadata": {},
   "outputs": [],
   "source": [
    "import pandas as pd\n",
    "import numpy as np\n",
    "from typing import List, Tuple\n",
    "import os"
   ]
  },
  {
   "cell_type": "code",
   "execution_count": 9,
   "metadata": {},
   "outputs": [
    {
     "name": "stdout",
     "output_type": "stream",
     "text": [
      "id list sample: ['107406076', '107396582', '107364147', '107323331', '107314135']\n",
      "file list sample: ['106965515', '107323331', '107406076', '106977162', '107412516']\n"
     ]
    }
   ],
   "source": [
    "main_path = os.path.join(os.getcwd(), 'cnbc_news_20240521000948', 'sk')\n",
    "xlex_path = os.path.join(main_path, \"info_sk.xlsx\")\n",
    "articles_path = os.path.join(main_path, \"articles\")\n",
    "\n",
    "df = pd.read_excel(xlex_path)\n",
    "id_list = df[\"id\"].astype(str).tolist()\n",
    "file_list = [file.split('.')[0] for file in os.listdir(\n",
    "    articles_path) if file.endswith(\".txt\")]\n",
    "print(f\"id list sample: {id_list[:5]}\")\n",
    "print(f\"file list sample: {file_list[:5]}\")"
   ]
  },
  {
   "cell_type": "code",
   "execution_count": 10,
   "metadata": {},
   "outputs": [
    {
     "name": "stdout",
     "output_type": "stream",
     "text": [
      "id list length: 15, 중복제거: 15\n",
      "file list length: 15, 중복제거: 15\n"
     ]
    }
   ],
   "source": [
    "print(f\"id list length: {len(id_list)}, 중복제거: {len(set(id_list))}\")\n",
    "print(f\"file list length: {len(os.listdir(articles_path))}, \"\n",
    "      f\"중복제거: {len(set(file_list))}\")"
   ]
  },
  {
   "cell_type": "code",
   "execution_count": 11,
   "metadata": {},
   "outputs": [
    {
     "name": "stdout",
     "output_type": "stream",
     "text": [
      "공통 요소: (15개) ['107406076', '107364147', '107412516', '106965515', '106977162', '107314135', '107094416', '107323331', '107411941', '106947905', '107102994', '106921570', '107396582', '107007756', '106917216']\n",
      "id_list에만 존재하는 요소: (0개) []\n",
      "file_list에만 존재: (0개) []\n"
     ]
    }
   ],
   "source": [
    "def compare_lists(list1, list2):\n",
    "    set1 = set(list1)\n",
    "    set2 = set(list2)\n",
    "\n",
    "    common_elements = set1 & set2  # 두 집합의 교집합 (공통 요소)\n",
    "    # 첫 번째 집합에서 두 번째 집합을 뺀 차집합 (list1에서만 존재하는 요소)\n",
    "    unique_to_list1 = set1 - set2\n",
    "    # 두 번째 집합에서 첫 번째 집합을 뺀 차집합 (list2에서만 존재하는 요소)\n",
    "    unique_to_list2 = set2 - set1\n",
    "\n",
    "    return {\n",
    "        \"Common\": list(common_elements),\n",
    "        \"Only in list1\": list(unique_to_list1),\n",
    "        \"Only in list2\": list(unique_to_list2)\n",
    "    }\n",
    "\n",
    "\n",
    "# 함수 실행 및 결과 출력\n",
    "result = compare_lists(id_list, file_list)\n",
    "print(f\"공통 요소: ({len(result['Common'])}개)\", result[\"Common\"])\n",
    "print(\n",
    "    f\"id_list에만 존재하는 요소: ({len(result['Only in list1'])}개)\", result[\"Only in list1\"])\n",
    "print(\n",
    "    f\"file_list에만 존재: ({len(result['Only in list2'])}개)\", result[\"Only in list2\"])"
   ]
  },
  {
   "cell_type": "code",
   "execution_count": 6,
   "metadata": {},
   "outputs": [
    {
     "name": "stdout",
     "output_type": "stream",
     "text": [
      "not empty file list: (0개) []\n"
     ]
    }
   ],
   "source": [
    "empty_file_list = []\n",
    "\n",
    "for file in result[\"Only in list2\"]:\n",
    "    # check if file has empty content\n",
    "    with open(f\"articles/{file}.txt\", 'r') as f:\n",
    "        content = f.read()\n",
    "        if not content:\n",
    "            empty_file_list.append(file)\n",
    "\n",
    "not_empty_file_list = list(set(empty_file_list) - set(result[\"Only in list2\"]))\n",
    "print(\n",
    "    f\"not empty file list: ({len(result['Only in list1'])}개) {not_empty_file_list}\")"
   ]
  },
  {
   "cell_type": "code",
   "execution_count": 10,
   "metadata": {},
   "outputs": [
    {
     "name": "stdout",
     "output_type": "stream",
     "text": [
      "df length before removing duplicated id: 29\n",
      "df length after removing duplicated id: 29\n"
     ]
    }
   ],
   "source": [
    "# remove row that has duplicated value in df id column\n",
    "print(f\"df length before removing duplicated id: {len(df)}\")\n",
    "df = df.drop_duplicates(subset=\"id\", keep='first')\n",
    "print(f\"df length after removing duplicated id: {len(df)}\")\n",
    "df.to_excel(\"info_sk.xlsx\", index=False)"
   ]
  },
  {
   "cell_type": "code",
   "execution_count": 8,
   "metadata": {},
   "outputs": [],
   "source": [
    "# remove if file is empty\n",
    "def remove_if_file_is_empty(file_list: List[str]) -> None:\n",
    "    for file in file_list:\n",
    "        os.remove(file)\n",
    "        print(f\"{file} removed\")\n",
    "\n",
    "\n",
    "remove_if_file_is_empty([f\"articles/{file}.txt\" for file in empty_file_list])"
   ]
  }
 ],
 "metadata": {
  "kernelspec": {
   "display_name": "Python 3",
   "language": "python",
   "name": "python3"
  },
  "language_info": {
   "codemirror_mode": {
    "name": "ipython",
    "version": 3
   },
   "file_extension": ".py",
   "mimetype": "text/x-python",
   "name": "python",
   "nbconvert_exporter": "python",
   "pygments_lexer": "ipython3",
   "version": "3.9.0"
  }
 },
 "nbformat": 4,
 "nbformat_minor": 2
}
